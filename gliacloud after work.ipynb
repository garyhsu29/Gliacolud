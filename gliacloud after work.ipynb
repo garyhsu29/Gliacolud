{
 "cells": [
  {
   "cell_type": "markdown",
   "metadata": {},
   "source": [
    "# Q2-1"
   ]
  },
  {
   "cell_type": "code",
   "execution_count": 173,
   "metadata": {},
   "outputs": [
    {
     "name": "stdout",
     "output_type": "stream",
     "text": [
      "0.0034562629\n"
     ]
    }
   ],
   "source": [
    "def ngram_probs(filename = 'raw_sentences.txt'):\n",
    "    bigram_probs = {}\n",
    "    trigram_probs = {}\n",
    "    bicount = 0\n",
    "    tricount = 0\n",
    "    with open(filename) as file:\n",
    "        data = file.read()\n",
    "        lines = data.split('\\n')\n",
    "        for line in lines:\n",
    "            line = line.split(' ')\n",
    "            for i in range(len(line) - 1):\n",
    "                #if line[i].isalpha() and line[i + 1].isalpha():\n",
    "                bigraph = (line[i].lower(), line[i + 1].lower())\n",
    "                if bigraph not in bigram_probs:\n",
    "                    bigram_probs[bigraph] = 1\n",
    "                else:\n",
    "                    bigram_probs[bigraph] += 1\n",
    "                bicount += 1\n",
    "            for i in range(len(line) - 2):\n",
    "                #if line[i].isalpha() and line[i + 1].isalpha() and line[i + 2].isalpha():\n",
    "                trigraph = (line[i].lower(), line[i + 1].lower(), line[i + 2].lower())\n",
    "                if trigraph not in trigram_probs:\n",
    "                    trigram_probs[trigraph] = 1\n",
    "                else:\n",
    "                    trigram_probs[trigraph] += 1\n",
    "                tricount += 1\n",
    "        for k in bigram_probs:\n",
    "            bigram_probs[k] = round(bigram_probs[k] / bicount, 10)\n",
    "        for k in trigram_probs:\n",
    "            trigram_probs[k] = round(trigram_probs[k] / tricount, 10)\n",
    "    return bigram_probs, trigram_probs\n",
    "\n",
    "cnt2, cnt3 = ngram_probs()\n",
    "print(cnt2[('we', 'are')])\n",
    "# after removing space in calculating"
   ]
  },
  {
   "cell_type": "markdown",
   "metadata": {},
   "source": [
    "# Q2-2"
   ]
  },
  {
   "cell_type": "code",
   "execution_count": 177,
   "metadata": {},
   "outputs": [],
   "source": [
    "import numpy as np\n",
    "cnt2, cnt3 = ngram_probs()\n",
    "def prob3(bigram,cnt2 = cnt2,cnt3 = cnt3):        \n",
    "    p2 = np.log10(cnt2[bigram])\n",
    "    prob = {}\n",
    "    for key in cnt3:\n",
    "        if bigram[0] in key and bigram[1] in key:\n",
    "            p3 = np.log10(cnt3[key])\n",
    "            for i in key:\n",
    "                if i not in bigram:\n",
    "                    prob[i] = p3 - p2\n",
    "    return prob"
   ]
  },
  {
   "cell_type": "code",
   "execution_count": 178,
   "metadata": {},
   "outputs": [
    {
     "name": "stdout",
     "output_type": "stream",
     "text": [
      "-2.28986864111\n"
     ]
    }
   ],
   "source": [
    "p = prob3(('we','are'))\n",
    "print(p['family'])"
   ]
  },
  {
   "cell_type": "code",
   "execution_count": 181,
   "metadata": {},
   "outputs": [],
   "source": [
    "def predict_max(starting, cnt2 = cnt2, cnt3 = cnt3):\n",
    "    res = []\n",
    "    res.append(starting[0])\n",
    "    res.append(starting[1])\n",
    "    while starting[1] and len(res)<=15:\n",
    "        prob = prob3(starting)\n",
    "        max_key = max(prob, key=lambda k: prob[k])\n",
    "        res.append(max_key)\n",
    "        print(res)\n",
    "        starting = (starting[1],max_key)\n",
    "    return res\n",
    "    #return list_of_words"
   ]
  },
  {
   "cell_type": "markdown",
   "metadata": {},
   "source": [
    "# Raise a problem when the bigram is not exist (use some smoth method?)"
   ]
  },
  {
   "cell_type": "code",
   "execution_count": 182,
   "metadata": {},
   "outputs": [
    {
     "name": "stdout",
     "output_type": "stream",
     "text": [
      "['we', 'are', 'going']\n",
      "['we', 'are', 'going', 'to']\n",
      "['we', 'are', 'going', 'to', 'are']\n"
     ]
    },
    {
     "ename": "KeyError",
     "evalue": "('to', 'are')",
     "output_type": "error",
     "traceback": [
      "\u001b[0;31m---------------------------------------------------------------------------\u001b[0m",
      "\u001b[0;31mKeyError\u001b[0m                                  Traceback (most recent call last)",
      "\u001b[0;32m<ipython-input-182-86dfea87396a>\u001b[0m in \u001b[0;36m<module>\u001b[0;34m()\u001b[0m\n\u001b[0;32m----> 1\u001b[0;31m \u001b[0msent\u001b[0m \u001b[0;34m=\u001b[0m \u001b[0mpredict_max\u001b[0m\u001b[0;34m(\u001b[0m\u001b[0;34m(\u001b[0m\u001b[0;34m'we'\u001b[0m\u001b[0;34m,\u001b[0m\u001b[0;34m'are'\u001b[0m\u001b[0;34m)\u001b[0m\u001b[0;34m)\u001b[0m\u001b[0;34m\u001b[0m\u001b[0m\n\u001b[0m\u001b[1;32m      2\u001b[0m \u001b[0;32massert\u001b[0m \u001b[0msent\u001b[0m\u001b[0;34m[\u001b[0m\u001b[0;34m-\u001b[0m\u001b[0;36m1\u001b[0m\u001b[0;34m]\u001b[0m \u001b[0;34m==\u001b[0m \u001b[0;34m'.'\u001b[0m \u001b[0;32mor\u001b[0m \u001b[0mlen\u001b[0m\u001b[0;34m(\u001b[0m\u001b[0msent\u001b[0m\u001b[0;34m)\u001b[0m \u001b[0;34m<=\u001b[0m\u001b[0;36m15\u001b[0m\u001b[0;34m\u001b[0m\u001b[0m\n\u001b[1;32m      3\u001b[0m \u001b[0mprint\u001b[0m\u001b[0;34m(\u001b[0m\u001b[0;34m' '\u001b[0m\u001b[0;34m.\u001b[0m\u001b[0mjoin\u001b[0m\u001b[0;34m(\u001b[0m\u001b[0msent\u001b[0m\u001b[0;34m)\u001b[0m\u001b[0;34m)\u001b[0m\u001b[0;34m\u001b[0m\u001b[0m\n",
      "\u001b[0;32m<ipython-input-181-0bb71e2324cd>\u001b[0m in \u001b[0;36mpredict_max\u001b[0;34m(starting, cnt2, cnt3)\u001b[0m\n\u001b[1;32m      4\u001b[0m     \u001b[0mres\u001b[0m\u001b[0;34m.\u001b[0m\u001b[0mappend\u001b[0m\u001b[0;34m(\u001b[0m\u001b[0mstarting\u001b[0m\u001b[0;34m[\u001b[0m\u001b[0;36m1\u001b[0m\u001b[0;34m]\u001b[0m\u001b[0;34m)\u001b[0m\u001b[0;34m\u001b[0m\u001b[0m\n\u001b[1;32m      5\u001b[0m     \u001b[0;32mwhile\u001b[0m \u001b[0mstarting\u001b[0m\u001b[0;34m[\u001b[0m\u001b[0;36m1\u001b[0m\u001b[0;34m]\u001b[0m \u001b[0;32mand\u001b[0m \u001b[0mlen\u001b[0m\u001b[0;34m(\u001b[0m\u001b[0mres\u001b[0m\u001b[0;34m)\u001b[0m\u001b[0;34m<=\u001b[0m\u001b[0;36m15\u001b[0m\u001b[0;34m:\u001b[0m\u001b[0;34m\u001b[0m\u001b[0m\n\u001b[0;32m----> 6\u001b[0;31m         \u001b[0mprob\u001b[0m \u001b[0;34m=\u001b[0m \u001b[0mprob3\u001b[0m\u001b[0;34m(\u001b[0m\u001b[0mstarting\u001b[0m\u001b[0;34m)\u001b[0m\u001b[0;34m\u001b[0m\u001b[0m\n\u001b[0m\u001b[1;32m      7\u001b[0m         \u001b[0mmax_key\u001b[0m \u001b[0;34m=\u001b[0m \u001b[0mmax\u001b[0m\u001b[0;34m(\u001b[0m\u001b[0mprob\u001b[0m\u001b[0;34m,\u001b[0m \u001b[0mkey\u001b[0m\u001b[0;34m=\u001b[0m\u001b[0;32mlambda\u001b[0m \u001b[0mk\u001b[0m\u001b[0;34m:\u001b[0m \u001b[0mprob\u001b[0m\u001b[0;34m[\u001b[0m\u001b[0mk\u001b[0m\u001b[0;34m]\u001b[0m\u001b[0;34m)\u001b[0m\u001b[0;34m\u001b[0m\u001b[0m\n\u001b[1;32m      8\u001b[0m         \u001b[0mres\u001b[0m\u001b[0;34m.\u001b[0m\u001b[0mappend\u001b[0m\u001b[0;34m(\u001b[0m\u001b[0mmax_key\u001b[0m\u001b[0;34m)\u001b[0m\u001b[0;34m\u001b[0m\u001b[0m\n",
      "\u001b[0;32m<ipython-input-177-edb3f8814f0c>\u001b[0m in \u001b[0;36mprob3\u001b[0;34m(bigram, cnt2, cnt3)\u001b[0m\n\u001b[1;32m      2\u001b[0m \u001b[0mcnt2\u001b[0m\u001b[0;34m,\u001b[0m \u001b[0mcnt3\u001b[0m \u001b[0;34m=\u001b[0m \u001b[0mngram_probs\u001b[0m\u001b[0;34m(\u001b[0m\u001b[0;34m)\u001b[0m\u001b[0;34m\u001b[0m\u001b[0m\n\u001b[1;32m      3\u001b[0m \u001b[0;32mdef\u001b[0m \u001b[0mprob3\u001b[0m\u001b[0;34m(\u001b[0m\u001b[0mbigram\u001b[0m\u001b[0;34m,\u001b[0m\u001b[0mcnt2\u001b[0m \u001b[0;34m=\u001b[0m \u001b[0mcnt2\u001b[0m\u001b[0;34m,\u001b[0m\u001b[0mcnt3\u001b[0m \u001b[0;34m=\u001b[0m \u001b[0mcnt3\u001b[0m\u001b[0;34m)\u001b[0m\u001b[0;34m:\u001b[0m\u001b[0;34m\u001b[0m\u001b[0m\n\u001b[0;32m----> 4\u001b[0;31m     \u001b[0mp2\u001b[0m \u001b[0;34m=\u001b[0m \u001b[0mnp\u001b[0m\u001b[0;34m.\u001b[0m\u001b[0mlog10\u001b[0m\u001b[0;34m(\u001b[0m\u001b[0mcnt2\u001b[0m\u001b[0;34m[\u001b[0m\u001b[0mbigram\u001b[0m\u001b[0;34m]\u001b[0m\u001b[0;34m)\u001b[0m\u001b[0;34m\u001b[0m\u001b[0m\n\u001b[0m\u001b[1;32m      5\u001b[0m     \u001b[0mprob\u001b[0m \u001b[0;34m=\u001b[0m \u001b[0;34m{\u001b[0m\u001b[0;34m}\u001b[0m\u001b[0;34m\u001b[0m\u001b[0m\n\u001b[1;32m      6\u001b[0m     \u001b[0;32mfor\u001b[0m \u001b[0mkey\u001b[0m \u001b[0;32min\u001b[0m \u001b[0mcnt3\u001b[0m\u001b[0;34m:\u001b[0m\u001b[0;34m\u001b[0m\u001b[0m\n",
      "\u001b[0;31mKeyError\u001b[0m: ('to', 'are')"
     ]
    }
   ],
   "source": [
    "sent = predict_max(('we','are'))\n",
    "assert sent[-1] == '.' or len(sent) <=15\n",
    "print(' '.join(sent))\n"
   ]
  },
  {
   "cell_type": "code",
   "execution_count": 183,
   "metadata": {},
   "outputs": [],
   "source": [
    "def predict_beam(bigram, beam_size = 4, sent_length = 10, cnt2 = cnt2, cnt3 = cnt3):\n",
    "    list_of_sentence = []\n",
    "    heap = [bigram]\n",
    "    sentences = []\n",
    "    curr_sen = ''\n",
    "    while heap:\n",
    "        curr_bigram = heapq.heappop(heap)\n",
    "        for w in next_list:\n",
    "            curr_sen = curr_sen + w\n",
    "            sentences.append(curr_sen)\n",
    "            if curr_sen[-1] == '.' and len(curr_sen) < 10:\n",
    "                list_of_sentence.append(curr_sen)\n",
    "        beam = []\n",
    "        next_list = []\n",
    "        d = prob3(curr_bigram)\n",
    "        for k, v in d.items():\n",
    "            heapq.heappush(beam, (v, k))\n",
    "        while len(beam) > beam_size:\n",
    "            heapq.heappop(beam)\n",
    "        while beam:\n",
    "            next_w = heapq.heappop(beam)[1]\n",
    "            next_list.append(next_w)\n",
    "    return list_of_sentence\n"
   ]
  },
  {
   "cell_type": "code",
   "execution_count": null,
   "metadata": {},
   "outputs": [],
   "source": []
  }
 ],
 "metadata": {
  "kernelspec": {
   "display_name": "Python 3",
   "language": "python",
   "name": "python3"
  },
  "language_info": {
   "codemirror_mode": {
    "name": "ipython",
    "version": 3
   },
   "file_extension": ".py",
   "mimetype": "text/x-python",
   "name": "python",
   "nbconvert_exporter": "python",
   "pygments_lexer": "ipython3",
   "version": "3.6.6"
  }
 },
 "nbformat": 4,
 "nbformat_minor": 2
}
